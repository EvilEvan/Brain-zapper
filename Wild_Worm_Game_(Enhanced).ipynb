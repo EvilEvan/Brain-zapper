# ENHANCED WILD WORM GAME WITH SPECTACULAR VISUAL EFFECTS 🐍✨
# Focus: Eye-catching visuals and enhanced user experience

import pygame
import random
import math
import sys
import time
import colorsys
import traceback
import os
from PIL import Image, ImageDraw, ImageFont

# --- Enhanced Visual Constants ---
SCREEN_WIDTH_INIT = 800
SCREEN_HEIGHT_INIT = 600
FPS = 60  # Increased for smoother animations

# Enhanced Color Palette
WHITE = (255, 255, 255)
BLACK = (0, 0, 0)
RED = (211, 0, 0)
BRIGHT_RED = (255, 0, 0)
GREEN = (0, 180, 0)
BRIGHT_GREEN = (0, 255, 0)
BLUE = (0, 0, 200)
DARK_BLUE = (0, 0, 100)
BRIGHT_BLUE = (50, 50, 255)
DARK_PURPLE = (80, 0, 80)
BRIGHT_PURPLE = (150, 0, 150)
DARK_CYAN = (0, 80, 80)
BRIGHT_CYAN = (0, 255, 255)
YELLOW = (230, 230, 0)
LIGHT_YELLOW = (255, 255, 150)
ORANGE = (255, 165, 0)
PURPLE = (128, 0, 128)
GREY = (169, 169, 169)
DARK_GREY = (100, 100, 100)
SNAKE_COLOR = (34, 139, 34)
SNAKE_COLOR_DARK = (0, 100, 0)
CAGE_COLOR = (139, 69, 19)
PARTICLE_COLORS = [RED, ORANGE, YELLOW, GREEN, BLUE, PURPLE, WHITE]
SHAPE_NAMES = ["Square", "Triangle", "Rectangle", "Circle", "Pentagon"]

# NEW ENHANCED VISUAL COLORS
NEON_RED = (255, 20, 20)
NEON_GREEN = (57, 255, 20)
NEON_BLUE = (20, 20, 255)
NEON_PURPLE = (186, 85, 211)
NEON_CYAN = (0, 255, 255)
NEON_YELLOW = (255, 255, 0)
NEON_ORANGE = (255, 140, 0)
NEON_PINK = (255, 20, 147)
ELECTRIC_BLUE = (125, 249, 255)
LIME_GREEN = (50, 205, 50)
CAGE_GOLD = (255, 215, 0)
SILVER = (192, 192, 192)

# Enhanced particle colors for more spectacular effects
ENHANCED_PARTICLE_COLORS = [NEON_RED, NEON_ORANGE, NEON_YELLOW, NEON_GREEN, NEON_BLUE, NEON_PURPLE, NEON_PINK, ELECTRIC_BLUE, WHITE]

# Gradient color sets for stunning backgrounds
GRADIENT_COLORS = {
    'sunset': [(255, 94, 77), (255, 154, 0), (255, 206, 84)],
    'ocean': [(64, 224, 208), (70, 130, 180), (25, 25, 112)],
    'forest': [(34, 139, 34), (107, 142, 35), (173, 255, 47)],
    'cosmic': [(138, 43, 226), (75, 0, 130), (25, 25, 112)],
    'fire': [(255, 69, 0), (255, 140, 0), (255, 215, 0)],
    'electric': [(0, 255, 255), (0, 191, 255), (30, 144, 255)]
}

# Food categories
FRUITS = ["Apple", "Banana", "Orange", "Strawberry", "Grapes"]
VEGETABLES = ["Carrot", "Broccoli", "Tomato", "Cucumber", "Pepper"]
FOOD_CATEGORIES = {
    "fruits": FRUITS,
    "vegetables": VEGETABLES
}

# Game States
STATE_WELCOME = 0
STATE_LEVEL_SELECT = 1
STATE_PLAYING = 2
STATE_WIN_LEVEL_ANIMATING = 3
STATE_WIN_LEVEL_CONGRATS = 4
STATE_GAME_OVER = 5

# Initialize Pygame
pygame.init()
pygame.font.init()

# Screen setup
screen_width, screen_height = SCREEN_WIDTH_INIT, SCREEN_HEIGHT_INIT
screen = pygame.display.set_mode((screen_width, screen_height), pygame.RESIZABLE)
pygame.display.set_caption("Wild Worm 🐍✨ - Enhanced Edition")
clock = pygame.time.Clock()

# Enhanced fonts
DEFAULT_FONT = "Arial"
try:
    FONT_TITLE = pygame.font.SysFont(DEFAULT_FONT, 72, bold=True)
    FONT_MEDIUM = pygame.font.SysFont(DEFAULT_FONT, 36)
    FONT_SMALL = pygame.font.SysFont(DEFAULT_FONT, 24)
    FONT_TINY = pygame.font.SysFont(DEFAULT_FONT, 16)
    FONT_HUD = pygame.font.SysFont("Impact", 48)
except Exception as e:
    print(f"Warning: Font loading error ({e}), using default pygame fonts.")
    FONT_TITLE = pygame.font.Font(None, 80)
    FONT_MEDIUM = pygame.font.Font(None, 40)
    FONT_SMALL = pygame.font.Font(None, 30)
    FONT_TINY = pygame.font.Font(None, 20)
    FONT_HUD = pygame.font.Font(None, 55)

print("Enhanced Wild Worm Game - Visual Effects Loaded! 🎮✨")